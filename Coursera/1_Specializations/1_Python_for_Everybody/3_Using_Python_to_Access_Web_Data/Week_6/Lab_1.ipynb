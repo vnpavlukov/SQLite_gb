{
 "cells": [
  {
   "cell_type": "code",
   "execution_count": 1,
   "metadata": {
    "collapsed": true,
    "pycharm": {
     "is_executing": false
    }
   },
   "outputs": [],
   "source": [
    "import json\n",
    "import urllib\n",
    "\n",
    "url_1 = 'http://py4e-data.dr-chuck.net/comments_42.json'\n",
    "url_2 = 'http://py4e-data.dr-chuck.net/comments_810459.json'\n",
    "urls = [url_1, url_2]"
   ]
  },
  {
   "cell_type": "code",
   "execution_count": 2,
   "outputs": [
    {
     "name": "stdout",
     "text": [
      "2553\n",
      "2184\n"
     ],
     "output_type": "stream"
    }
   ],
   "source": [
    "for url in urls:\n",
    "    info = json.loads(urllib.request.urlopen(url).read())\n",
    "    all_data = info['comments']\n",
    "    sum_of_data = 0\n",
    "    for data in all_data:\n",
    "        sum_of_data += int(data['count'])\n",
    "    print(sum_of_data)\n"
   ],
   "metadata": {
    "collapsed": false,
    "pycharm": {
     "name": "#%%\n",
     "is_executing": false
    }
   }
  }
 ],
 "metadata": {
  "kernelspec": {
   "display_name": "Python 3",
   "language": "python",
   "name": "python3"
  },
  "language_info": {
   "codemirror_mode": {
    "name": "ipython",
    "version": 2
   },
   "file_extension": ".py",
   "mimetype": "text/x-python",
   "name": "python",
   "nbconvert_exporter": "python",
   "pygments_lexer": "ipython2",
   "version": "2.7.6"
  },
  "pycharm": {
   "stem_cell": {
    "cell_type": "raw",
    "source": [],
    "metadata": {
     "collapsed": false
    }
   }
  }
 },
 "nbformat": 4,
 "nbformat_minor": 0
}