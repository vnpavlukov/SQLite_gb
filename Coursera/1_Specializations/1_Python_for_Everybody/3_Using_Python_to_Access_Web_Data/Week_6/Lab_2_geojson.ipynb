{
 "cells": [
  {
   "cell_type": "code",
   "execution_count": 4,
   "metadata": {
    "collapsed": true,
    "pycharm": {
     "is_executing": false
    }
   },
   "outputs": [
    {
     "name": "stdout",
     "text": [
      "Retrieving http://py4e-data.dr-chuck.net/json?address=University+of+Buenos+Aires&key=42\n",
      "Retrieved 2132 characters\n",
      "{\n",
      "    \"results\": [\n",
      "        {\n",
      "            \"address_components\": [\n",
      "                {\n",
      "                    \"long_name\": \"430\",\n",
      "                    \"short_name\": \"430\",\n",
      "                    \"types\": [\n",
      "                        \"street_number\"\n",
      "                    ]\n",
      "                },\n",
      "                {\n",
      "                    \"long_name\": \"Viamonte\",\n",
      "                    \"short_name\": \"Viamonte\",\n",
      "                    \"types\": [\n",
      "                        \"route\"\n",
      "                    ]\n",
      "                },\n",
      "                {\n",
      "                    \"long_name\": \"San Nicol\\u00e1s\",\n",
      "                    \"short_name\": \"San Nicol\\u00e1s\",\n",
      "                    \"types\": [\n",
      "                        \"political\",\n",
      "                        \"sublocality\",\n",
      "                        \"sublocality_level_1\"\n",
      "                    ]\n",
      "                },\n",
      "                {\n",
      "                    \"long_name\": \"Comuna 1\",\n",
      "                    \"short_name\": \"Comuna 1\",\n",
      "                    \"types\": [\n",
      "                        \"administrative_area_level_2\",\n",
      "                        \"political\"\n",
      "                    ]\n",
      "                },\n",
      "                {\n",
      "                    \"long_name\": \"Buenos Aires\",\n",
      "                    \"short_name\": \"CABA\",\n",
      "                    \"types\": [\n",
      "                        \"administrative_area_level_1\",\n",
      "                        \"political\"\n",
      "                    ]\n",
      "                },\n",
      "                {\n",
      "                    \"long_name\": \"Argentina\",\n",
      "                    \"short_name\": \"AR\",\n",
      "                    \"types\": [\n",
      "                        \"country\",\n",
      "                        \"political\"\n",
      "                    ]\n",
      "                },\n",
      "                {\n",
      "                    \"long_name\": \"C1053\",\n",
      "                    \"short_name\": \"C1053\",\n",
      "                    \"types\": [\n",
      "                        \"postal_code\"\n",
      "                    ]\n",
      "                }\n",
      "            ],\n",
      "            \"formatted_address\": \"Viamonte 430, C1053 CABA, Argentina\",\n",
      "            \"geometry\": {\n",
      "                \"location\": {\n",
      "                    \"lat\": -34.5998875,\n",
      "                    \"lng\": -58.37306949999999\n",
      "                },\n",
      "                \"location_type\": \"ROOFTOP\",\n",
      "                \"viewport\": {\n",
      "                    \"northeast\": {\n",
      "                        \"lat\": -34.59853851970851,\n",
      "                        \"lng\": -58.37172051970849\n",
      "                    },\n",
      "                    \"southwest\": {\n",
      "                        \"lat\": -34.6012364802915,\n",
      "                        \"lng\": -58.3744184802915\n",
      "                    }\n",
      "                }\n",
      "            },\n",
      "            \"place_id\": \"ChIJE1bNX8vKvJURFbYSKI1Gw0I\",\n",
      "            \"plus_code\": {\n",
      "                \"compound_code\": \"CJ2G+2Q Buenos Aires, Argentina\",\n",
      "                \"global_code\": \"48Q3CJ2G+2Q\"\n",
      "            },\n",
      "            \"types\": [\n",
      "                \"establishment\",\n",
      "                \"point_of_interest\",\n",
      "                \"university\"\n",
      "            ]\n",
      "        }\n",
      "    ],\n",
      "    \"status\": \"OK\"\n",
      "}\n"
     ],
     "output_type": "stream"
    }
   ],
   "source": [
    "import urllib.request, urllib.parse, urllib.error\n",
    "import json\n",
    "import ssl\n",
    "\n",
    "api_key = False\n",
    "# If you have a Google Places API key, enter it here\n",
    "# api_key = 'AIzaSy___IDByT70'\n",
    "# https://developers.google.com/maps/documentation/geocoding/intro\n",
    "\n",
    "if api_key is False:\n",
    "    api_key = 42\n",
    "    serviceurl = 'http://py4e-data.dr-chuck.net/json?'\n",
    "else :\n",
    "    serviceurl = 'https://maps.googleapis.com/maps/api/geocode/json?'\n",
    "\n",
    "# Ignore SSL certificate errors\n",
    "ctx = ssl.create_default_context()\n",
    "ctx.check_hostname = False\n",
    "ctx.verify_mode = ssl.CERT_NONE\n",
    "\n",
    "address = input('Enter location: ')\n",
    "parms = dict()\n",
    "parms['address'] = address\n",
    "if api_key is not False: parms['key'] = api_key\n",
    "url = serviceurl + urllib.parse.urlencode(parms)\n",
    "print('Retrieving', url)\n",
    "uh = urllib.request.urlopen(url, context=ctx)\n",
    "data = uh.read().decode()\n",
    "print('Retrieved', len(data), 'characters')\n",
    "\n",
    "try:\n",
    "    js = json.loads(data)\n",
    "except:\n",
    "    js = None\n",
    "\n",
    "if not js or 'status' not in js or js['status'] != 'OK':\n",
    "    print('==== Failure To Retrieve ====')\n",
    "    print(data)\n",
    "\n",
    "print(json.dumps(js, indent=4))"
   ]
  },
  {
   "cell_type": "code",
   "execution_count": 5,
   "outputs": [
    {
     "name": "stdout",
     "text": [
      "lat -34.5998875 lng -58.37306949999999\n",
      "Viamonte 430, C1053 CABA, Argentina\n",
      "ChIJE1bNX8vKvJURFbYSKI1Gw0I\n"
     ],
     "output_type": "stream"
    }
   ],
   "source": [
    "lat = js['results'][0]['geometry']['location']['lat']\n",
    "lng = js['results'][0]['geometry']['location']['lng']\n",
    "print('lat', lat, 'lng', lng)\n",
    "location = js['results'][0]['formatted_address']\n",
    "print(location)\n",
    "place_id = js['results'][0]['place_id']\n",
    "print(place_id)"
   ],
   "metadata": {
    "collapsed": false,
    "pycharm": {
     "name": "#%%\n",
     "is_executing": false
    }
   }
  }
 ],
 "metadata": {
  "kernelspec": {
   "display_name": "Python 3",
   "language": "python",
   "name": "python3"
  },
  "language_info": {
   "codemirror_mode": {
    "name": "ipython",
    "version": 2
   },
   "file_extension": ".py",
   "mimetype": "text/x-python",
   "name": "python",
   "nbconvert_exporter": "python",
   "pygments_lexer": "ipython2",
   "version": "2.7.6"
  },
  "pycharm": {
   "stem_cell": {
    "cell_type": "raw",
    "source": [],
    "metadata": {
     "collapsed": false
    }
   }
  }
 },
 "nbformat": 4,
 "nbformat_minor": 0
}