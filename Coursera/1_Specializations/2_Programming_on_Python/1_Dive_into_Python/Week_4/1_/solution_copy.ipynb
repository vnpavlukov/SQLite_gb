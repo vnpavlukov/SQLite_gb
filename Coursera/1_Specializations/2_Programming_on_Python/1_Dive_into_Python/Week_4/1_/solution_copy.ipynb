{
 "cells": [
  {
   "cell_type": "code",
   "execution_count": 4,
   "metadata": {
    "collapsed": true,
    "pycharm": {
     "is_executing": false,
     "name": "#%%\n"
    }
   },
   "outputs": [
    {
     "data": {
      "text/plain": "'new_line'"
     },
     "metadata": {},
     "output_type": "execute_result",
     "execution_count": 4
    }
   ],
   "source": [
    "import os\n",
    "import tempfile\n",
    "\n",
    "\n",
    "class File:\n",
    "    def __init__(self, name):\n",
    "        self.name = name\n",
    "        if not os.path.exists(self.name):\n",
    "            self.file = open(self.name, mode='w', encoding='utf8')\n",
    "            self.file.close()\n",
    "\n",
    "    def read(self):\n",
    "        file = open(self.name, mode='r', encoding='utf8')\n",
    "        text_file = file.read()\n",
    "        file.close()\n",
    "        return text_file\n",
    "\n",
    "    def write(self, text):\n",
    "        file = open(self.name, mode='w', encoding='utf8')\n",
    "        file.write(text)\n",
    "        file.close()\n",
    "\n",
    "    def __add__(self, other):\n",
    "        new_file_name = self.name.split('\\\\')[-1] + other.name.split('\\\\')[-1]\n",
    "        first_file = open(self.name, mode='r', encoding='utf8')\n",
    "        second_file = open(other.name, mode='r', encoding='utf8')\n",
    "        comb_text = first_file.read() + second_file.read()\n",
    "        first_file.close()\n",
    "        second_file.close()\n",
    "        new_file = File(os.path.join(tempfile.gettempdir(), new_file_name))\n",
    "        new_file.write(comb_text)\n",
    "        return new_file\n",
    "\n",
    "    def __str__(self):\n",
    "        return os.path.abspath(self.name)\n",
    "\n",
    "    def __iter__(self):\n",
    "        self.file = open(self.name)\n",
    "        return self\n",
    "\n",
    "    def __next__(self):\n",
    "        new_file = self.file\n",
    "        new_line = new_file.readline()\n",
    "        if new_line:\n",
    "            return new_line\n",
    "        else:\n",
    "            self.file.close()\n",
    "            raise StopIteration\n",
    "\n",
    "\n",
    "with open('new.txt', 'w') as file:\n",
    "    file.write('line')\n",
    "    \n",
    "file_obj = File('new.txt')\n",
    "file_obj.write('new_line')\n",
    "file_obj.read()"
   ]
  }
 ],
 "metadata": {
  "kernelspec": {
   "display_name": "Python 3",
   "language": "python",
   "name": "python3"
  },
  "language_info": {
   "codemirror_mode": {
    "name": "ipython",
    "version": 2
   },
   "file_extension": ".py",
   "mimetype": "text/x-python",
   "name": "python",
   "nbconvert_exporter": "python",
   "pygments_lexer": "ipython2",
   "version": "2.7.6"
  },
  "pycharm": {
   "stem_cell": {
    "cell_type": "raw",
    "source": [],
    "metadata": {
     "collapsed": false
    }
   }
  }
 },
 "nbformat": 4,
 "nbformat_minor": 0
}